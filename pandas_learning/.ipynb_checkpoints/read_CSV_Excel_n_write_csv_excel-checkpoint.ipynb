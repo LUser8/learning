{
 "cells": [
  {
   "cell_type": "code",
   "execution_count": 18,
   "id": "bcc51124-ec52-4e25-8924-8841ab03a3e6",
   "metadata": {},
   "outputs": [
    {
     "ename": "SyntaxError",
     "evalue": "invalid syntax. Maybe you meant '==' or ':=' instead of '='? (3469582797.py, line 6)",
     "output_type": "error",
     "traceback": [
      "  \u001b[36mCell\u001b[39m\u001b[36m \u001b[39m\u001b[32mIn[18]\u001b[39m\u001b[32m, line 6\u001b[39m\n\u001b[31m    \u001b[39m\u001b[31mif value ='n.a.':\u001b[39m\n       ^\n\u001b[31mSyntaxError\u001b[39m\u001b[31m:\u001b[39m invalid syntax. Maybe you meant '==' or ':=' instead of '='?\n"
     ]
    }
   ],
   "source": [
    "import pandas as pd\n",
    "# df = pd.read_csv('stock_data.csv')\n",
    "# df = pd.read_csv('stock_data.csv', skiprows=1, names=['as', 'asa', 'afdf', 'asfda', 'adas'], nrows=3)\n",
    "\n",
    "def update_people_cell(value):\n",
    "    if value =='n.a.':\n",
    "        return 'Atul'\n",
    "    else:\n",
    "        return value\n",
    "        \n",
    "df = pd.read_csv('stock_data.csv', na_values={\n",
    "    'price':['not available', 'n.a.'],\n",
    "    'revenue': ['not available', 'n.a.', -1]},\n",
    "                converter={\n",
    "                    'people': update_people_cell\n",
    "                })\n",
    "\n",
    "df"
   ]
  },
  {
   "cell_type": "code",
   "execution_count": null,
   "id": "2129779d-44ba-44a3-9188-50219e6d2690",
   "metadata": {},
   "outputs": [],
   "source": []
  }
 ],
 "metadata": {
  "kernelspec": {
   "display_name": "Python 3 (ipykernel)",
   "language": "python",
   "name": "python3"
  },
  "language_info": {
   "codemirror_mode": {
    "name": "ipython",
    "version": 3
   },
   "file_extension": ".py",
   "mimetype": "text/x-python",
   "name": "python",
   "nbconvert_exporter": "python",
   "pygments_lexer": "ipython3",
   "version": "3.12.8"
  }
 },
 "nbformat": 4,
 "nbformat_minor": 5
}
